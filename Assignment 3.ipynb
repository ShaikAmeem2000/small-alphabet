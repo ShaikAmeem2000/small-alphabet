{
 "cells": [
  {
   "cell_type": "code",
   "execution_count": 1,
   "id": "055c0a61",
   "metadata": {},
   "outputs": [],
   "source": [
    "# 1. Write a Python program that prints all the numbers from  0 to 6 except 3 and 6"
   ]
  },
  {
   "cell_type": "code",
   "execution_count": 4,
   "id": "3af358b2",
   "metadata": {},
   "outputs": [
    {
     "name": "stdout",
     "output_type": "stream",
     "text": [
      "01245"
     ]
    }
   ],
   "source": [
    "for x in range(7):\n",
    "    if (x == 3 or x==6):\n",
    "        continue\n",
    "    print(x,end='')"
   ]
  },
  {
   "cell_type": "code",
   "execution_count": 5,
   "id": "ed62f86d",
   "metadata": {},
   "outputs": [
    {
     "name": "stdout",
     "output_type": "stream",
     "text": [
      "01245"
     ]
    }
   ],
   "source": [
    "x=0\n",
    "while x<7:\n",
    "    print(x,end=\"\")\n",
    "    x+=1\n",
    "    if (x == 3 or x==6):\n",
    "        x+=1"
   ]
  },
  {
   "cell_type": "code",
   "execution_count": 6,
   "id": "b516487e",
   "metadata": {},
   "outputs": [],
   "source": [
    "# 2. Write a program to accept a number from a user and calculate the sum of all numbers from 1 to a given number"
   ]
  },
  {
   "cell_type": "code",
   "execution_count": 7,
   "id": "a0745401",
   "metadata": {},
   "outputs": [
    {
     "name": "stdout",
     "output_type": "stream",
     "text": [
      "Enter a number: 15\n",
      "The sum of all numbers from 1 to the given number is:  120\n"
     ]
    }
   ],
   "source": [
    "x= int(input(\"Enter a number: \"))\n",
    "y=0\n",
    "for n in range(x+1):\n",
    "    y+=n\n",
    "print(\"The sum of all numbers from 1 to the given number is: \",y)\n"
   ]
  },
  {
   "cell_type": "code",
   "execution_count": 8,
   "id": "345db4ab",
   "metadata": {},
   "outputs": [
    {
     "name": "stdout",
     "output_type": "stream",
     "text": [
      "Enter a number: 20\n",
      "The sum of all numbers from 1 to the given number is:  210\n"
     ]
    }
   ],
   "source": [
    "x=int(input(\"Enter a number: \"))\n",
    "total_numbers=x\n",
    "y=0\n",
    "while x>= 0:\n",
    "    y+=x\n",
    "    x-=1\n",
    "print(\"The sum of all numbers from 1 to the given number is: \",y)\n"
   ]
  },
  {
   "cell_type": "code",
   "execution_count": 9,
   "id": "d3617bd8",
   "metadata": {},
   "outputs": [],
   "source": [
    "# 3.  Write a program to print multiplication table of a given number(input)"
   ]
  },
  {
   "cell_type": "code",
   "execution_count": 11,
   "id": "b07821db",
   "metadata": {},
   "outputs": [
    {
     "name": "stdout",
     "output_type": "stream",
     "text": [
      "7*0=0\n",
      "7*1=7\n",
      "7*2=14\n",
      "7*3=21\n",
      "7*4=28\n",
      "7*5=35\n",
      "7*6=42\n",
      "7*7=49\n",
      "7*8=56\n",
      "7*9=63\n",
      "7*10=70\n"
     ]
    }
   ],
   "source": [
    "def mul(x,y):\n",
    "    for n in range(0,y+1):\n",
    "        z=x*n\n",
    "        print(\"{}*{}={}\".format(x,n,z))\n",
    "mul(7,10)"
   ]
  },
  {
   "cell_type": "code",
   "execution_count": 15,
   "id": "bb506792",
   "metadata": {},
   "outputs": [
    {
     "name": "stdout",
     "output_type": "stream",
     "text": [
      "enter num1 : 9\n",
      "enter num2 : 10\n",
      "9*1=9\n",
      "9*2=18\n",
      "9*3=27\n",
      "9*4=36\n",
      "9*5=45\n",
      "9*6=54\n",
      "9*7=63\n",
      "9*8=72\n",
      "9*9=81\n",
      "9*10=90\n"
     ]
    }
   ],
   "source": [
    "x=int(input(\"enter num1 : \"))\n",
    "y=int(input(\"enter num2 : \"))\n",
    "z=1\n",
    "while z<=y:\n",
    "    r=x*z\n",
    "    print(\"{}*{}={}\".format(x,z,r))\n",
    "    z+=1"
   ]
  },
  {
   "cell_type": "code",
   "execution_count": 17,
   "id": "48832dd4",
   "metadata": {},
   "outputs": [],
   "source": [
    "# 4. Write a program to count the total number of digits in a number using a while loop.\n",
    "#For example, the number is 75869, so the output should be 5."
   ]
  },
  {
   "cell_type": "code",
   "execution_count": 18,
   "id": "fb3991f5",
   "metadata": {},
   "outputs": [
    {
     "name": "stdout",
     "output_type": "stream",
     "text": [
      "enter number : 7660054816\n",
      "Length of 7660054816 is : 10\n"
     ]
    }
   ],
   "source": [
    "num=input(\"enter number : \")\n",
    "a=0\n",
    "for i in num:\n",
    "    a+=1\n",
    "print(\"Length of {} is : {}\".format(num,a)) "
   ]
  },
  {
   "cell_type": "code",
   "execution_count": 19,
   "id": "f1e61a7f",
   "metadata": {},
   "outputs": [
    {
     "name": "stdout",
     "output_type": "stream",
     "text": [
      "enter number : 99896408169177225959\n",
      "Length of 99896408169177225959 is : 20\n"
     ]
    }
   ],
   "source": [
    "num=input(\"enter number : \")\n",
    "x=True\n",
    "a=0\n",
    "while x:\n",
    "    for i in num:\n",
    "        a+=1\n",
    "    x=False\n",
    "print(\"Length of {} is : {}\".format(num,a))"
   ]
  },
  {
   "cell_type": "code",
   "execution_count": 20,
   "id": "afb5e8b9",
   "metadata": {},
   "outputs": [],
   "source": [
    "# 5. Write a Python program to guess a number between 1 to 6\n",
    "#     Example:\n",
    "#     User is prompted to enter a guess. If the user guesses wrong then the prompt appears again until the guess is correct, on successful guess, user will get a \"Well guessed!\" message, and the program will exit.\n"
   ]
  },
  {
   "cell_type": "code",
   "execution_count": 1,
   "id": "199e3fb8",
   "metadata": {},
   "outputs": [
    {
     "name": "stdout",
     "output_type": "stream",
     "text": [
      "Please provide any number here : 1\n",
      "Please provide any number here : 2\n",
      "Please provide any number here : 3\n",
      "Please provide any number here : 4\n",
      "Please provide any number here : 5\n",
      "Good Guess\n"
     ]
    }
   ],
   "source": [
    "num=int(input(\"Please provide any number here : \"))\n",
    "from random import shuffle\n",
    "dice=[1,2,3,4,5,6]\n",
    "shuffle(dice)\n",
    "for i in dice:\n",
    "    if dice[0]==num:\n",
    "        print(\"Good Guess\")\n",
    "        break\n",
    "    else:\n",
    "        num=int(input(\"Please provide any number here : \"))\n",
    "        continue\n"
   ]
  },
  {
   "cell_type": "code",
   "execution_count": 2,
   "id": "d26fbfb2",
   "metadata": {},
   "outputs": [
    {
     "name": "stdout",
     "output_type": "stream",
     "text": [
      "Please provide any number here : 1\n",
      "Please provide any number here : 2\n",
      "Please provide any number here : 3\n",
      "Please provide any number here : 4\n",
      "Well guessed!\n"
     ]
    }
   ],
   "source": [
    "num=int(input(\"Please provide any number here : \"))\n",
    "from random import shuffle\n",
    "dice=[1,2,3,4,5,6]\n",
    "shuffle(dice)\n",
    "x=True\n",
    "while x:\n",
    "    if dice[0]==num:\n",
    "        print(\"Well guessed!\")\n",
    "        x=False\n",
    "    else:\n",
    "        num=int(input(\"Please provide any number here : \"))\n",
    "        continue"
   ]
  },
  {
   "cell_type": "code",
   "execution_count": 3,
   "id": "0a179945",
   "metadata": {},
   "outputs": [],
   "source": [
    "# 6. Write a Python program which iterates the integers from 1 to 60. For multiples of three print \"Fizz\" instead of the\n",
    "#    number and for the multiples of five print \"Buzz\". For numbers which are multiples of both three and five print \"FizzBuzz\"."
   ]
  },
  {
   "cell_type": "code",
   "execution_count": 4,
   "id": "0ccc586c",
   "metadata": {},
   "outputs": [
    {
     "name": "stdout",
     "output_type": "stream",
     "text": [
      "1\n",
      "2\n",
      "Fizz\n",
      "4\n",
      "Buzz\n",
      "Fizz\n",
      "7\n",
      "8\n",
      "Fizz\n",
      "Buzz\n",
      "11\n",
      "Fizz\n",
      "13\n",
      "14\n",
      "Fizz\n",
      "16\n",
      "17\n",
      "Fizz\n",
      "19\n",
      "Buzz\n",
      "Fizz\n",
      "22\n",
      "23\n",
      "Fizz\n",
      "Buzz\n",
      "26\n",
      "Fizz\n",
      "28\n",
      "29\n",
      "Fizz\n",
      "31\n",
      "32\n",
      "Fizz\n",
      "34\n",
      "Buzz\n",
      "Fizz\n",
      "37\n",
      "38\n",
      "Fizz\n",
      "Buzz\n",
      "41\n",
      "Fizz\n",
      "43\n",
      "44\n",
      "Fizz\n",
      "46\n",
      "47\n",
      "Fizz\n",
      "49\n",
      "Buzz\n",
      "Fizz\n",
      "52\n",
      "53\n",
      "Fizz\n",
      "Buzz\n",
      "56\n",
      "Fizz\n",
      "58\n",
      "59\n",
      "Fizz\n"
     ]
    }
   ],
   "source": [
    "for i in range(1,61):\n",
    "    if i%3==0:\n",
    "        print(\"Fizz\")\n",
    "    elif i%5==0:\n",
    "        print(\"Buzz\")\n",
    "    elif i%3==0 and i%5==0:\n",
    "        print(\"FizzBuzz\")\n",
    "    else:\n",
    "        print(i)"
   ]
  },
  {
   "cell_type": "code",
   "execution_count": 5,
   "id": "b7b65a41",
   "metadata": {},
   "outputs": [
    {
     "name": "stdout",
     "output_type": "stream",
     "text": [
      "1\n",
      "2\n",
      "Fizz\n",
      "4\n",
      "Buzz\n",
      "Fizz\n",
      "7\n",
      "8\n",
      "Fizz\n",
      "Buzz\n",
      "11\n",
      "Fizz\n",
      "13\n",
      "14\n",
      "Fizz\n",
      "16\n",
      "17\n",
      "Fizz\n",
      "19\n",
      "Buzz\n",
      "Fizz\n",
      "22\n",
      "23\n",
      "Fizz\n",
      "Buzz\n",
      "26\n",
      "Fizz\n",
      "28\n",
      "29\n",
      "Fizz\n",
      "31\n",
      "32\n",
      "Fizz\n",
      "34\n",
      "Buzz\n",
      "Fizz\n",
      "37\n",
      "38\n",
      "Fizz\n",
      "Buzz\n",
      "41\n",
      "Fizz\n",
      "43\n",
      "44\n",
      "Fizz\n",
      "46\n",
      "47\n",
      "Fizz\n",
      "49\n",
      "Buzz\n",
      "Fizz\n",
      "52\n",
      "53\n",
      "Fizz\n",
      "Buzz\n",
      "56\n",
      "Fizz\n",
      "58\n",
      "59\n"
     ]
    }
   ],
   "source": [
    "i=1\n",
    "while i<60:\n",
    "    if i%3==0:\n",
    "        print(\"Fizz\")\n",
    "    elif i%5==0:\n",
    "        print(\"Buzz\")\n",
    "    elif i%3==0 and i%5==0:\n",
    "        print(\"FizzBuzz\")\n",
    "    else:\n",
    "        print(i)\n",
    "    i+=1"
   ]
  },
  {
   "cell_type": "code",
   "execution_count": 6,
   "id": "8c6911be",
   "metadata": {},
   "outputs": [],
   "source": [
    "# 7.  Write a Python program that accepts a string and calculate the number of digits and letters\n",
    "#   Example:Input Python 3.2 \n",
    "#           Output Letters 6 Digits 2"
   ]
  },
  {
   "cell_type": "code",
   "execution_count": 7,
   "id": "f4e0f6e9",
   "metadata": {},
   "outputs": [
    {
     "name": "stdout",
     "output_type": "stream",
     "text": [
      "enter input : 5.5\n",
      "Digits in 5.5 : 2\n",
      "Letters in 5.5 : 0\n"
     ]
    }
   ],
   "source": [
    "string=input(\"enter input : \")\n",
    "digit=0\n",
    "letters=0\n",
    "for elements in string:\n",
    "    if elements.isdigit():\n",
    "        digit+=1\n",
    "    elif elements.isalpha():\n",
    "        letters+=1\n",
    "print(\"Digits in {} : {}\".format(string,digit))\n",
    "print(\"Letters in {} : {}\".format(string,letters))"
   ]
  },
  {
   "cell_type": "code",
   "execution_count": 8,
   "id": "1c6ce7f8",
   "metadata": {},
   "outputs": [
    {
     "name": "stdout",
     "output_type": "stream",
     "text": [
      "Type your input here : 7.3\n",
      "Digits in 7.3 : 2\n",
      "Letters in 7.3 : 0\n"
     ]
    }
   ],
   "source": [
    "string=input(\"Type your input here : \")\n",
    "digit=0\n",
    "letters=0\n",
    "x=True\n",
    "while x:\n",
    "    for elements in string:\n",
    "        if elements.isdigit():\n",
    "            digit+=1\n",
    "        elif elements.isalpha():\n",
    "            letters+=1\n",
    "    x=False\n",
    "print(\"Digits in {} : {}\".format(string,digit))\n",
    "print(\"Letters in {} : {}\".format(string,letters))"
   ]
  },
  {
   "cell_type": "code",
   "execution_count": 9,
   "id": "568d4c8b",
   "metadata": {},
   "outputs": [],
   "source": [
    "# 8. Write a Python program to check the validity of password input by users. \n",
    "#    Validation: At least 1 letter between [a-z] and 1 letter between [A-Z]. \n",
    "#    At least 1 number between [0-9]. \n",
    "#    At least 1 character from [$#@].\n",
    "#    Minimum length 6 characters.\n",
    "#    Maximum length 16 characters."
   ]
  },
  {
   "cell_type": "code",
   "execution_count": 12,
   "id": "40631c1c",
   "metadata": {},
   "outputs": [
    {
     "name": "stdout",
     "output_type": "stream",
     "text": [
      "Amim2@\n",
      "OK\n",
      "You have given valid Password.\n"
     ]
    }
   ],
   "source": [
    "password=input()\n",
    "lowercase=0\n",
    "uppercase=0\n",
    "num=0\n",
    "sym=0\n",
    "symbol=[\"@\",\"$\",\"#\"]\n",
    "for elements in password:\n",
    "    if elements.isalpha():\n",
    "        if elements==elements.upper():\n",
    "            uppercase+=1\n",
    "        elif elements==elements.lower():\n",
    "            lowercase+=1\n",
    "    elif elements in symbol:\n",
    "        sym+=1\n",
    "    elif int(elements) in range(0,10):\n",
    "        num+=1\n",
    "if len(password)<6:\n",
    "    print(\"Your Password must contain atleast 6 charecters\")\n",
    "elif len(password)>16:\n",
    "    print(\"Your Password length is greater than limits, Please reduce some charecters\")\n",
    "elif num==0:\n",
    "    print(\"Please include numbers inside your password\")\n",
    "elif uppercase==0:\n",
    "    print(\"Please include upperr case letters inside your password\")\n",
    "elif lowercase==0:\n",
    "    print(\"Please include lower case letters inside your password\")\n",
    "else:\n",
    "    print(\"OK\\nYou have given valid Password.\")"
   ]
  },
  {
   "cell_type": "code",
   "execution_count": 13,
   "id": "e9b236c8",
   "metadata": {},
   "outputs": [],
   "source": [
    "# 9.  Write a program in Python to reverse a word by using while loop"
   ]
  },
  {
   "cell_type": "code",
   "execution_count": 14,
   "id": "05a2781d",
   "metadata": {},
   "outputs": [
    {
     "name": "stdout",
     "output_type": "stream",
     "text": [
      "Enter : \n",
      "shaikameem\n",
      "meemakiahs \n"
     ]
    }
   ],
   "source": [
    "print(\"Enter : \")\n",
    "word=input()\n",
    "length=len(word)\n",
    "reverse=\"\"\n",
    "while length > 0:\n",
    "    reverse+=word[length-1]\n",
    "    length=length-1\n",
    "print(\"{} \".format(reverse))"
   ]
  },
  {
   "cell_type": "code",
   "execution_count": 1,
   "id": "3ed3454e",
   "metadata": {},
   "outputs": [],
   "source": [
    "# 10. Write a program which takes 10 integers as input using loop and print their average value on the screen"
   ]
  },
  {
   "cell_type": "code",
   "execution_count": 2,
   "id": "8e99bb8d",
   "metadata": {},
   "outputs": [
    {
     "name": "stdout",
     "output_type": "stream",
     "text": [
      "enter a number 1\n",
      "enter a number 2\n",
      "enter a number 3\n",
      "enter a number 4\n",
      "enter a number 5\n",
      "enter a number 6\n",
      "enter a number 7\n",
      "enter a number 8\n",
      "enter a number 9\n",
      "enter a number 8\n",
      "the average of given values is  5.3\n"
     ]
    }
   ],
   "source": [
    "b=[]\n",
    "for i in range(0,10):\n",
    "    a=int(input(\"enter a number \"))\n",
    "    b.append(a)\n",
    "print(\"the average of given values is \",(sum(b)/len(b)))"
   ]
  },
  {
   "cell_type": "code",
   "execution_count": 3,
   "id": "40567a58",
   "metadata": {},
   "outputs": [
    {
     "name": "stdout",
     "output_type": "stream",
     "text": [
      "enter a number 1\n",
      "enter a number 2\n",
      "enter a number 3\n",
      "enter a number 4\n",
      "enter a number 5\n",
      "enter a number 6\n",
      "enter a number 7\n",
      "enter a number 8\n",
      "enter a number 0\n",
      "enter a number 2\n",
      "the average of the given numbers is  3.8\n"
     ]
    }
   ],
   "source": [
    "b=[]\n",
    "c=1\n",
    "while c<=10:\n",
    "    c+=1\n",
    "    a=int(input(\"enter a number \"))\n",
    "    b.append(a)\n",
    "print(\"the average of the given numbers is \",sum(b)/len(b))"
   ]
  },
  {
   "cell_type": "code",
   "execution_count": 4,
   "id": "cbe420a8",
   "metadata": {},
   "outputs": [],
   "source": [
    "# 11. Write a program which takes integer inputs from user until he/she presses “q” (Ask to press q to quit after every integer input). Print average and product of all numbers.\n"
   ]
  },
  {
   "cell_type": "code",
   "execution_count": 1,
   "id": "e28bcb7c",
   "metadata": {},
   "outputs": [
    {
     "name": "stdout",
     "output_type": "stream",
     "text": [
      "enter numbers in the provided boxes findout their average and the product :\n",
      "give a number : 44\n",
      "if you want to exit press - q\n",
      "give a number : 54\n",
      "if you want to exit press - q\n",
      "give a number : 64\n",
      "if you want to exit press - q\n",
      "give a number : 74\n",
      "if you want to exit press - q\n",
      "give a number : q\n",
      "\n",
      "Product = 11252736\n",
      "Average = 59.0\n"
     ]
    }
   ],
   "source": [
    "print(\"enter numbers in the provided boxes findout their average and the product :\")\n",
    "numbers=[]\n",
    "newnum=[]\n",
    "product=1\n",
    "while True:\n",
    "    num=input(\"give a number : \")\n",
    "    if num==\"q\":\n",
    "        break\n",
    "    print(\"if you want to exit press - q\")\n",
    "    numbers.append(num)\n",
    "for j in numbers:\n",
    "    a=int(j)\n",
    "    newnum.append(a)\n",
    "for i in newnum:\n",
    "    product=product*i\n",
    "total=sum(newnum)\n",
    "average=total/len(newnum)\n",
    "print(\"\\nProduct = {}\".format(product))\n",
    "print(\"Average = {}\".format(average))"
   ]
  },
  {
   "cell_type": "code",
   "execution_count": 2,
   "id": "bfb05dab",
   "metadata": {},
   "outputs": [],
   "source": [
    "# 12. Write a Python program which will remove all digits or any other characters from the string except alphabets"
   ]
  },
  {
   "cell_type": "code",
   "execution_count": 3,
   "id": "ec06783a",
   "metadata": {},
   "outputs": [
    {
     "name": "stdout",
     "output_type": "stream",
     "text": [
      "Type your input here : ameem,51111\n",
      "ameem\n"
     ]
    }
   ],
   "source": [
    "name=input(\"Type your input here : \")\n",
    "new=\"\"\n",
    "for letters in name:\n",
    "    if letters.isalpha():\n",
    "        new+=letters\n",
    "    else:\n",
    "        continue\n",
    "print(new)"
   ]
  },
  {
   "cell_type": "code",
   "execution_count": 4,
   "id": "da5a24d1",
   "metadata": {},
   "outputs": [
    {
     "name": "stdout",
     "output_type": "stream",
     "text": [
      "Type your input here : gfdsaghj.,nbvcxz\n",
      "gfdsaghjnbvcxz\n"
     ]
    }
   ],
   "source": [
    "name=input(\"Type your input here : \")\n",
    "new=\"\"\n",
    "x=True\n",
    "while x:\n",
    "    for letters in name:\n",
    "        if letters.isalpha():\n",
    "            new+=letters\n",
    "        else:\n",
    "            continue\n",
    "    x=False\n",
    "print(new)"
   ]
  },
  {
   "cell_type": "code",
   "execution_count": 5,
   "id": "88bedd37",
   "metadata": {},
   "outputs": [],
   "source": [
    "# 13. Write a python program to find the sum of all even numbers from 0 to 10"
   ]
  },
  {
   "cell_type": "code",
   "execution_count": 6,
   "id": "d30a4c1b",
   "metadata": {},
   "outputs": [
    {
     "name": "stdout",
     "output_type": "stream",
     "text": [
      "Sum of all even numbers from 0 to 10 are :-. 30\n"
     ]
    }
   ],
   "source": [
    "total=0\n",
    "for num in range(0,11):\n",
    "    if num%2==0:\n",
    "        total+=num\n",
    "print(\"Sum of all even numbers from 0 to 10 are :-. {}\".format(total))"
   ]
  },
  {
   "cell_type": "code",
   "execution_count": 7,
   "id": "4e0a6892",
   "metadata": {},
   "outputs": [
    {
     "name": "stdout",
     "output_type": "stream",
     "text": [
      "Sum of all even numbers from 0 to 10 are :-. 30\n"
     ]
    }
   ],
   "source": [
    "total=0\n",
    "x=True\n",
    "while x:\n",
    "    for num in range(0,11):\n",
    "        if num%2==0:\n",
    "            total+=num\n",
    "    x=False\n",
    "print(\"Sum of all even numbers from 0 to 10 are :-. {}\".format(total))"
   ]
  },
  {
   "cell_type": "code",
   "execution_count": 8,
   "id": "e6d3e8d9",
   "metadata": {},
   "outputs": [],
   "source": [
    "# 14. Write a python program which will accept a digit and print All the numbers before it till 0"
   ]
  },
  {
   "cell_type": "code",
   "execution_count": 9,
   "id": "1ef432e5",
   "metadata": {},
   "outputs": [
    {
     "name": "stdout",
     "output_type": "stream",
     "text": [
      "Enter a number, so that you can get all the numbers which are before it till zero.\n",
      "Provide a number : 7\n",
      "7\n",
      "6\n",
      "5\n",
      "4\n",
      "3\n",
      "2\n",
      "1\n",
      "0\n"
     ]
    }
   ],
   "source": [
    "print(\"Enter a number, so that you can get all the numbers which are before it till zero.\")\n",
    "number=int(input(\"Provide a number : \"))\n",
    "\n",
    "while number>=0:\n",
    "    print(number)\n",
    "    number-=1"
   ]
  },
  {
   "cell_type": "code",
   "execution_count": 10,
   "id": "ce9b9e31",
   "metadata": {},
   "outputs": [],
   "source": [
    "# 15. Create a dynamic calculator which will run continuasly till you press “c”"
   ]
  },
  {
   "cell_type": "code",
   "execution_count": 13,
   "id": "0bd73733",
   "metadata": {},
   "outputs": [
    {
     "name": "stdout",
     "output_type": "stream",
     "text": [
      "num 1 : 5\n",
      "choose any symbol from +,-,*,/ : +,-,*,/ :\n",
      "num 2 : 5\n",
      "Press c to close : 5*5\n",
      "Press c to close : c\n"
     ]
    }
   ],
   "source": [
    "a=int(input(\"num 1 : \"))\n",
    "x=input(\"choose any symbol from +,-,*,/ : \")\n",
    "b=int(input(\"num 2 : \"))\n",
    "while True:\n",
    "    if x==\"+\":\n",
    "        print(\"{} {} {} = {}\".format(a,x,b,a+b))\n",
    "    elif x==\"-\":\n",
    "        print(\"{} {} {} = {}\".format(a,x,b,a-b))\n",
    "    elif x==\"*\":\n",
    "        print(\"{} {} {} = {}\".format(a,x,b,a*b))\n",
    "    elif x==\"/\":\n",
    "        print(\"{} {} {} = {}\".format(a,x,b,a/b))\n",
    "    new=input(\"Press c to close : \")\n",
    "    if new==\"c\" or new==\"C\":\n",
    "        break"
   ]
  },
  {
   "cell_type": "code",
   "execution_count": null,
   "id": "6e73433d",
   "metadata": {},
   "outputs": [],
   "source": []
  }
 ],
 "metadata": {
  "kernelspec": {
   "display_name": "Python 3 (ipykernel)",
   "language": "python",
   "name": "python3"
  },
  "language_info": {
   "codemirror_mode": {
    "name": "ipython",
    "version": 3
   },
   "file_extension": ".py",
   "mimetype": "text/x-python",
   "name": "python",
   "nbconvert_exporter": "python",
   "pygments_lexer": "ipython3",
   "version": "3.9.13"
  }
 },
 "nbformat": 4,
 "nbformat_minor": 5
}
